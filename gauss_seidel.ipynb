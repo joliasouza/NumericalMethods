{
  "cells": [
    {
      "cell_type": "code",
      "execution_count": 1,
      "metadata": {
        "id": "kL5ciU54AI2m"
      },
      "outputs": [],
      "source": [
        "import numpy as np"
      ]
    },
    {
      "cell_type": "code",
      "execution_count": 2,
      "metadata": {
        "id": "ygSvSMEsAGlp"
      },
      "outputs": [],
      "source": [
        "def jacobi(A, b, x0=None, tol=1e-10, max_iter=100):\n",
        "    n = len(A)\n",
        "    x = np.zeros_like(b) if x0 is None else np.array(x0, dtype=float)\n",
        "    for _ in range(max_iter):\n",
        "        x_new = np.zeros_like(x)\n",
        "        for i in range(n):\n",
        "            s = sum(A[i][j] * x[j] for j in range(n) if j != i)\n",
        "            x_new[i] = (b[i] - s) / A[i][i]\n",
        "        if np.linalg.norm(x_new - x, ord=np.inf) < tol:\n",
        "            return x_new\n",
        "        x = x_new\n",
        "    return x"
      ]
    },
    {
      "cell_type": "code",
      "execution_count": 3,
      "metadata": {
        "id": "c8uq8Y_-__oA"
      },
      "outputs": [],
      "source": [
        "def gauss_seidel(A, b, x0=None, tol=1e-10, max_iter=100):\n",
        "    n = len(A)\n",
        "    x = np.zeros_like(b) if x0 is None else np.array(x0, dtype=float)\n",
        "    for _ in range(max_iter):\n",
        "        x_new = np.copy(x)\n",
        "        for i in range(n):\n",
        "            s1 = sum(A[i][j] * x_new[j] for j in range(i))\n",
        "            s2 = sum(A[i][j] * x[j] for j in range(i + 1, n))\n",
        "            x_new[i] = (b[i] - s1 - s2) / A[i][i]\n",
        "        if np.linalg.norm(x_new - x, ord=np.inf) < tol:\n",
        "            return x_new\n",
        "        x = x_new\n",
        "    return x"
      ]
    },
    {
      "cell_type": "code",
      "execution_count": null,
      "metadata": {
        "colab": {
          "base_uri": "https://localhost:8080/"
        },
        "id": "bR2rDOUdk1h_",
        "outputId": "b9460439-a2e5-4311-c0ca-d21f656d1b4b"
      },
      "outputs": [
        {
          "name": "stdout",
          "output_type": "stream",
          "text": [
            "Solução pelo método de Jacobi: [ 1.  2. -1.  1.]\n"
          ]
        }
      ],
      "source": [
        "if __name__ == \"__main__\":\n",
        "  \"Para utilizar as funções, inicialize os arrays A e b com as matrizes e vetores correspondentes, depois é so chamar as funções, passando seus devidos parâmetros\"\n",
        "  A = np.array([[10, -1, 2, 0],\n",
        "                [-1, 11, -1, 3],\n",
        "                [2, -1, 10, -1],\n",
        "                [0, 3, -1, 8]], dtype=float)\n",
        "  b = np.array([6, 25, -11, 15], dtype=float)\n",
        "  x0 = np.zeros_like(b)\n",
        "\n",
        "  print(\"Solução pelo método de Gauss-Seidel:\", gauss_seidel(A, b, x0))\n"
      ]
    }
  ],
  "metadata": {
    "colab": {
      "provenance": []
    },
    "kernelspec": {
      "display_name": "Python 3",
      "name": "python3"
    },
    "language_info": {
      "name": "python"
    }
  },
  "nbformat": 4,
  "nbformat_minor": 0
}
